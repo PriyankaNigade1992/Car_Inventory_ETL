{
 "cells": [
  {
   "cell_type": "code",
   "execution_count": 21,
   "id": "2f784d58",
   "metadata": {},
   "outputs": [],
   "source": [
    "import psycopg2\n",
    "import pandas as pd\n",
    "from datetime import datetime\n",
    "import numpy as np\n",
    "import matplotlib.pyplot as plot"
   ]
  },
  {
   "cell_type": "code",
   "execution_count": 13,
   "id": "00d7119d",
   "metadata": {},
   "outputs": [],
   "source": [
    "try:\n",
    "    conn = psycopg2.connect(database=\"Rodo_Car_Inventories\", user=\"postgres\", password=\"postgres\",\n",
    "                            host=\"localhost\", port=\"5432\")\n",
    "except:\n",
    "    print(\"connection to the database failed\")"
   ]
  },
  {
   "cell_type": "code",
   "execution_count": 14,
   "id": "54860c7e",
   "metadata": {},
   "outputs": [],
   "source": [
    "cur = conn.cursor()"
   ]
  },
  {
   "cell_type": "code",
   "execution_count": 15,
   "id": "7285dc63",
   "metadata": {},
   "outputs": [],
   "source": [
    "postgreSQL_select_Query = f\"\"\"\n",
    "    select dealership_id as dealer, \n",
    "        to_char(dealer_inventory_entry_date, 'YYYY-MM') as year_month,\n",
    "        count(*) as count\n",
    "    from dealer_data\n",
    "    group by dealership_id, to_char(dealer_inventory_entry_date, 'YYYY-MM')\n",
    "\"\"\"\n",
    "\n",
    "cur.execute(postgreSQL_select_Query)\n",
    "dealer_records = cur.fetchall()"
   ]
  },
  {
   "cell_type": "code",
   "execution_count": 16,
   "id": "74c5ee7a",
   "metadata": {},
   "outputs": [
    {
     "data": {
      "text/plain": [
       "[('dealership2', '2021-09', 4),\n",
       " ('dealership2', '2021-10', 20),\n",
       " ('dealership2', '2021-08', 3),\n",
       " ('dealership1', '2021-12', 21),\n",
       " ('dealership1', '2021-10', 4),\n",
       " ('dealership2', '2021-11', 20),\n",
       " ('dealership2', '2021-07', 1),\n",
       " ('dealership1', '2021-11', 24)]"
      ]
     },
     "execution_count": 16,
     "metadata": {},
     "output_type": "execute_result"
    }
   ],
   "source": [
    "dealer_records"
   ]
  },
  {
   "cell_type": "code",
   "execution_count": 49,
   "id": "328dfd37",
   "metadata": {},
   "outputs": [],
   "source": [
    "dealer_df = pd.DataFrame(dealer_records)"
   ]
  },
  {
   "cell_type": "code",
   "execution_count": 50,
   "id": "4465a869",
   "metadata": {},
   "outputs": [],
   "source": [
    "# adding column name to the respective columns\n",
    "dealer_df.columns =['Dealer', 'Year_Month', 'Car_Count']\n",
    "  "
   ]
  },
  {
   "cell_type": "code",
   "execution_count": 51,
   "id": "d4bca5c3",
   "metadata": {},
   "outputs": [
    {
     "data": {
      "text/html": [
       "<div>\n",
       "<style scoped>\n",
       "    .dataframe tbody tr th:only-of-type {\n",
       "        vertical-align: middle;\n",
       "    }\n",
       "\n",
       "    .dataframe tbody tr th {\n",
       "        vertical-align: top;\n",
       "    }\n",
       "\n",
       "    .dataframe thead th {\n",
       "        text-align: right;\n",
       "    }\n",
       "</style>\n",
       "<table border=\"1\" class=\"dataframe\">\n",
       "  <thead>\n",
       "    <tr style=\"text-align: right;\">\n",
       "      <th></th>\n",
       "      <th>Dealer</th>\n",
       "      <th>Year_Month</th>\n",
       "      <th>Car_Count</th>\n",
       "    </tr>\n",
       "  </thead>\n",
       "  <tbody>\n",
       "    <tr>\n",
       "      <th>6</th>\n",
       "      <td>dealership2</td>\n",
       "      <td>2021-07</td>\n",
       "      <td>1</td>\n",
       "    </tr>\n",
       "    <tr>\n",
       "      <th>2</th>\n",
       "      <td>dealership2</td>\n",
       "      <td>2021-08</td>\n",
       "      <td>3</td>\n",
       "    </tr>\n",
       "    <tr>\n",
       "      <th>0</th>\n",
       "      <td>dealership2</td>\n",
       "      <td>2021-09</td>\n",
       "      <td>4</td>\n",
       "    </tr>\n",
       "    <tr>\n",
       "      <th>1</th>\n",
       "      <td>dealership2</td>\n",
       "      <td>2021-10</td>\n",
       "      <td>20</td>\n",
       "    </tr>\n",
       "    <tr>\n",
       "      <th>4</th>\n",
       "      <td>dealership1</td>\n",
       "      <td>2021-10</td>\n",
       "      <td>4</td>\n",
       "    </tr>\n",
       "    <tr>\n",
       "      <th>5</th>\n",
       "      <td>dealership2</td>\n",
       "      <td>2021-11</td>\n",
       "      <td>20</td>\n",
       "    </tr>\n",
       "    <tr>\n",
       "      <th>7</th>\n",
       "      <td>dealership1</td>\n",
       "      <td>2021-11</td>\n",
       "      <td>24</td>\n",
       "    </tr>\n",
       "    <tr>\n",
       "      <th>3</th>\n",
       "      <td>dealership1</td>\n",
       "      <td>2021-12</td>\n",
       "      <td>21</td>\n",
       "    </tr>\n",
       "  </tbody>\n",
       "</table>\n",
       "</div>"
      ],
      "text/plain": [
       "        Dealer Year_Month  Car_Count\n",
       "6  dealership2    2021-07          1\n",
       "2  dealership2    2021-08          3\n",
       "0  dealership2    2021-09          4\n",
       "1  dealership2    2021-10         20\n",
       "4  dealership1    2021-10          4\n",
       "5  dealership2    2021-11         20\n",
       "7  dealership1    2021-11         24\n",
       "3  dealership1    2021-12         21"
      ]
     },
     "execution_count": 51,
     "metadata": {},
     "output_type": "execute_result"
    }
   ],
   "source": [
    "dealer_df= dealer_df.sort_values('Year_Month')\n",
    "dealer_df"
   ]
  },
  {
   "cell_type": "code",
   "execution_count": 58,
   "id": "ff7ce541",
   "metadata": {},
   "outputs": [
    {
     "data": {
      "image/png": "[encoded data removed]",
      "text/plain": [
       "<Figure size 432x288 with 1 Axes>"
      ]
     },
     "metadata": {
      "needs_background": "light"
     },
     "output_type": "display_data"
    }
   ],
   "source": [
    "dealer_df.plot.line(x=\"Year_Month\", title=\"Number of cars at each dealership from 2021-07 to 2021-11\");\n",
    "\n",
    "plot.show(block=True);"
   ]
  },
  {
   "cell_type": "code",
   "execution_count": 59,
   "id": "de7d16ef",
   "metadata": {},
   "outputs": [
    {
     "data": {
      "text/plain": [
       "<pandas.core.groupby.generic.DataFrameGroupBy object at 0x7fa1b891c670>"
      ]
     },
     "execution_count": 59,
     "metadata": {},
     "output_type": "execute_result"
    }
   ],
   "source": [
    "dealer_df.groupby(\"Dealer\")"
   ]
  },
  {
   "cell_type": "code",
   "execution_count": 60,
   "id": "dd5c54a7",
   "metadata": {},
   "outputs": [
    {
     "data": {
      "text/plain": [
       "array([<AxesSubplot:xlabel='Year_Month'>,\n",
       "       <AxesSubplot:xlabel='Year_Month'>], dtype=object)"
      ]
     },
     "execution_count": 60,
     "metadata": {},
     "output_type": "execute_result"
    },
    {
     "data": {
      "image/png": "[encoded data removed]",
      "text/plain": [
       "<Figure size 1080x504 with 2 Axes>"
      ]
     },
     "metadata": {
      "needs_background": "light"
     },
     "output_type": "display_data"
    }
   ],
   "source": [
    "\n",
    "pd.pivot_table(dealer_df.reset_index(),\n",
    "               index='Year_Month', columns='Dealer', values='Car_Count'\n",
    "              ).plot(subplots=True, figsize=[15, 7])"
   ]
  },
  {
   "cell_type": "code",
   "execution_count": null,
   "id": "d234e1dd",
   "metadata": {},
   "outputs": [],
   "source": []
  }
 ],
 "metadata": {
  "kernelspec": {
   "display_name": "Python 3 (ipykernel)",
   "language": "python",
   "name": "python3"
  },
  "language_info": {
   "codemirror_mode": {
    "name": "ipython",
    "version": 3
   },
   "file_extension": ".py",
   "mimetype": "text/x-python",
   "name": "python",
   "nbconvert_exporter": "python",
   "pygments_lexer": "ipython3",
   "version": "3.8.12"
  }
 },
 "nbformat": 4,
 "nbformat_minor": 5
}
